{
 "cells": [
  {
   "cell_type": "code",
   "execution_count": 1,
   "metadata": {},
   "outputs": [],
   "source": [
    "import pandas as pd\n",
    "import numpy as np\n",
    "import matplotlib.pyplot as plt\n",
    "\n",
    "import seaborn as sns\n",
    "color = sns.color_palette()\n",
    "sns.set_style('darkgrid')\n",
    "\n",
    "from scipy import stats\n",
    "from scipy.stats import norm, skew #for some statistics\n",
    "\n",
    "pd.set_option('display.max_columns', 100)\n",
    "pd.set_option('display.max_rows', 100)\n",
    "\n",
    "import warnings\n",
    "warnings.filterwarnings('ignore')"
   ]
  },
  {
   "cell_type": "code",
   "execution_count": 2,
   "metadata": {},
   "outputs": [
    {
     "ename": "FileNotFoundError",
     "evalue": "[Errno 2] File Masterlist of Schools.csv does not exist: 'Masterlist of Schools.csv'",
     "output_type": "error",
     "traceback": [
      "\u001b[1;31m---------------------------------------------------------------------------\u001b[0m",
      "\u001b[1;31mFileNotFoundError\u001b[0m                         Traceback (most recent call last)",
      "\u001b[1;32m<ipython-input-2-b4129096fde9>\u001b[0m in \u001b[0;36m<module>\u001b[1;34m\u001b[0m\n\u001b[1;32m----> 1\u001b[1;33m \u001b[0mdf_schools\u001b[0m \u001b[1;33m=\u001b[0m \u001b[0mpd\u001b[0m\u001b[1;33m.\u001b[0m\u001b[0mread_csv\u001b[0m\u001b[1;33m(\u001b[0m\u001b[1;34m\"Masterlist of Schools.csv\"\u001b[0m\u001b[1;33m,\u001b[0m \u001b[0mindex_col\u001b[0m\u001b[1;33m=\u001b[0m\u001b[1;34m\"school.id\"\u001b[0m\u001b[1;33m)\u001b[0m\u001b[1;33m\u001b[0m\u001b[1;33m\u001b[0m\u001b[0m\n\u001b[0m\u001b[0;32m      2\u001b[0m \u001b[1;33m\u001b[0m\u001b[0m\n\u001b[0;32m      3\u001b[0m df_location = pd.read_csv(\"Schools Location Data.csv\", \n\u001b[0;32m      4\u001b[0m                           \u001b[0mencoding\u001b[0m \u001b[1;33m=\u001b[0m \u001b[1;34m\"latin-1\"\u001b[0m\u001b[1;33m,\u001b[0m\u001b[1;33m\u001b[0m\u001b[1;33m\u001b[0m\u001b[0m\n\u001b[0;32m      5\u001b[0m                           \u001b[0mindex_col\u001b[0m\u001b[1;33m=\u001b[0m\u001b[1;34m\"School ID\"\u001b[0m\u001b[1;33m,\u001b[0m\u001b[1;33m\u001b[0m\u001b[1;33m\u001b[0m\u001b[0m\n",
      "\u001b[1;32m~\\anaconda3\\lib\\site-packages\\pandas\\io\\parsers.py\u001b[0m in \u001b[0;36mparser_f\u001b[1;34m(filepath_or_buffer, sep, delimiter, header, names, index_col, usecols, squeeze, prefix, mangle_dupe_cols, dtype, engine, converters, true_values, false_values, skipinitialspace, skiprows, skipfooter, nrows, na_values, keep_default_na, na_filter, verbose, skip_blank_lines, parse_dates, infer_datetime_format, keep_date_col, date_parser, dayfirst, cache_dates, iterator, chunksize, compression, thousands, decimal, lineterminator, quotechar, quoting, doublequote, escapechar, comment, encoding, dialect, error_bad_lines, warn_bad_lines, delim_whitespace, low_memory, memory_map, float_precision)\u001b[0m\n\u001b[0;32m    674\u001b[0m         )\n\u001b[0;32m    675\u001b[0m \u001b[1;33m\u001b[0m\u001b[0m\n\u001b[1;32m--> 676\u001b[1;33m         \u001b[1;32mreturn\u001b[0m \u001b[0m_read\u001b[0m\u001b[1;33m(\u001b[0m\u001b[0mfilepath_or_buffer\u001b[0m\u001b[1;33m,\u001b[0m \u001b[0mkwds\u001b[0m\u001b[1;33m)\u001b[0m\u001b[1;33m\u001b[0m\u001b[1;33m\u001b[0m\u001b[0m\n\u001b[0m\u001b[0;32m    677\u001b[0m \u001b[1;33m\u001b[0m\u001b[0m\n\u001b[0;32m    678\u001b[0m     \u001b[0mparser_f\u001b[0m\u001b[1;33m.\u001b[0m\u001b[0m__name__\u001b[0m \u001b[1;33m=\u001b[0m \u001b[0mname\u001b[0m\u001b[1;33m\u001b[0m\u001b[1;33m\u001b[0m\u001b[0m\n",
      "\u001b[1;32m~\\anaconda3\\lib\\site-packages\\pandas\\io\\parsers.py\u001b[0m in \u001b[0;36m_read\u001b[1;34m(filepath_or_buffer, kwds)\u001b[0m\n\u001b[0;32m    446\u001b[0m \u001b[1;33m\u001b[0m\u001b[0m\n\u001b[0;32m    447\u001b[0m     \u001b[1;31m# Create the parser.\u001b[0m\u001b[1;33m\u001b[0m\u001b[1;33m\u001b[0m\u001b[1;33m\u001b[0m\u001b[0m\n\u001b[1;32m--> 448\u001b[1;33m     \u001b[0mparser\u001b[0m \u001b[1;33m=\u001b[0m \u001b[0mTextFileReader\u001b[0m\u001b[1;33m(\u001b[0m\u001b[0mfp_or_buf\u001b[0m\u001b[1;33m,\u001b[0m \u001b[1;33m**\u001b[0m\u001b[0mkwds\u001b[0m\u001b[1;33m)\u001b[0m\u001b[1;33m\u001b[0m\u001b[1;33m\u001b[0m\u001b[0m\n\u001b[0m\u001b[0;32m    449\u001b[0m \u001b[1;33m\u001b[0m\u001b[0m\n\u001b[0;32m    450\u001b[0m     \u001b[1;32mif\u001b[0m \u001b[0mchunksize\u001b[0m \u001b[1;32mor\u001b[0m \u001b[0miterator\u001b[0m\u001b[1;33m:\u001b[0m\u001b[1;33m\u001b[0m\u001b[1;33m\u001b[0m\u001b[0m\n",
      "\u001b[1;32m~\\anaconda3\\lib\\site-packages\\pandas\\io\\parsers.py\u001b[0m in \u001b[0;36m__init__\u001b[1;34m(self, f, engine, **kwds)\u001b[0m\n\u001b[0;32m    878\u001b[0m             \u001b[0mself\u001b[0m\u001b[1;33m.\u001b[0m\u001b[0moptions\u001b[0m\u001b[1;33m[\u001b[0m\u001b[1;34m\"has_index_names\"\u001b[0m\u001b[1;33m]\u001b[0m \u001b[1;33m=\u001b[0m \u001b[0mkwds\u001b[0m\u001b[1;33m[\u001b[0m\u001b[1;34m\"has_index_names\"\u001b[0m\u001b[1;33m]\u001b[0m\u001b[1;33m\u001b[0m\u001b[1;33m\u001b[0m\u001b[0m\n\u001b[0;32m    879\u001b[0m \u001b[1;33m\u001b[0m\u001b[0m\n\u001b[1;32m--> 880\u001b[1;33m         \u001b[0mself\u001b[0m\u001b[1;33m.\u001b[0m\u001b[0m_make_engine\u001b[0m\u001b[1;33m(\u001b[0m\u001b[0mself\u001b[0m\u001b[1;33m.\u001b[0m\u001b[0mengine\u001b[0m\u001b[1;33m)\u001b[0m\u001b[1;33m\u001b[0m\u001b[1;33m\u001b[0m\u001b[0m\n\u001b[0m\u001b[0;32m    881\u001b[0m \u001b[1;33m\u001b[0m\u001b[0m\n\u001b[0;32m    882\u001b[0m     \u001b[1;32mdef\u001b[0m \u001b[0mclose\u001b[0m\u001b[1;33m(\u001b[0m\u001b[0mself\u001b[0m\u001b[1;33m)\u001b[0m\u001b[1;33m:\u001b[0m\u001b[1;33m\u001b[0m\u001b[1;33m\u001b[0m\u001b[0m\n",
      "\u001b[1;32m~\\anaconda3\\lib\\site-packages\\pandas\\io\\parsers.py\u001b[0m in \u001b[0;36m_make_engine\u001b[1;34m(self, engine)\u001b[0m\n\u001b[0;32m   1112\u001b[0m     \u001b[1;32mdef\u001b[0m \u001b[0m_make_engine\u001b[0m\u001b[1;33m(\u001b[0m\u001b[0mself\u001b[0m\u001b[1;33m,\u001b[0m \u001b[0mengine\u001b[0m\u001b[1;33m=\u001b[0m\u001b[1;34m\"c\"\u001b[0m\u001b[1;33m)\u001b[0m\u001b[1;33m:\u001b[0m\u001b[1;33m\u001b[0m\u001b[1;33m\u001b[0m\u001b[0m\n\u001b[0;32m   1113\u001b[0m         \u001b[1;32mif\u001b[0m \u001b[0mengine\u001b[0m \u001b[1;33m==\u001b[0m \u001b[1;34m\"c\"\u001b[0m\u001b[1;33m:\u001b[0m\u001b[1;33m\u001b[0m\u001b[1;33m\u001b[0m\u001b[0m\n\u001b[1;32m-> 1114\u001b[1;33m             \u001b[0mself\u001b[0m\u001b[1;33m.\u001b[0m\u001b[0m_engine\u001b[0m \u001b[1;33m=\u001b[0m \u001b[0mCParserWrapper\u001b[0m\u001b[1;33m(\u001b[0m\u001b[0mself\u001b[0m\u001b[1;33m.\u001b[0m\u001b[0mf\u001b[0m\u001b[1;33m,\u001b[0m \u001b[1;33m**\u001b[0m\u001b[0mself\u001b[0m\u001b[1;33m.\u001b[0m\u001b[0moptions\u001b[0m\u001b[1;33m)\u001b[0m\u001b[1;33m\u001b[0m\u001b[1;33m\u001b[0m\u001b[0m\n\u001b[0m\u001b[0;32m   1115\u001b[0m         \u001b[1;32melse\u001b[0m\u001b[1;33m:\u001b[0m\u001b[1;33m\u001b[0m\u001b[1;33m\u001b[0m\u001b[0m\n\u001b[0;32m   1116\u001b[0m             \u001b[1;32mif\u001b[0m \u001b[0mengine\u001b[0m \u001b[1;33m==\u001b[0m \u001b[1;34m\"python\"\u001b[0m\u001b[1;33m:\u001b[0m\u001b[1;33m\u001b[0m\u001b[1;33m\u001b[0m\u001b[0m\n",
      "\u001b[1;32m~\\anaconda3\\lib\\site-packages\\pandas\\io\\parsers.py\u001b[0m in \u001b[0;36m__init__\u001b[1;34m(self, src, **kwds)\u001b[0m\n\u001b[0;32m   1889\u001b[0m         \u001b[0mkwds\u001b[0m\u001b[1;33m[\u001b[0m\u001b[1;34m\"usecols\"\u001b[0m\u001b[1;33m]\u001b[0m \u001b[1;33m=\u001b[0m \u001b[0mself\u001b[0m\u001b[1;33m.\u001b[0m\u001b[0musecols\u001b[0m\u001b[1;33m\u001b[0m\u001b[1;33m\u001b[0m\u001b[0m\n\u001b[0;32m   1890\u001b[0m \u001b[1;33m\u001b[0m\u001b[0m\n\u001b[1;32m-> 1891\u001b[1;33m         \u001b[0mself\u001b[0m\u001b[1;33m.\u001b[0m\u001b[0m_reader\u001b[0m \u001b[1;33m=\u001b[0m \u001b[0mparsers\u001b[0m\u001b[1;33m.\u001b[0m\u001b[0mTextReader\u001b[0m\u001b[1;33m(\u001b[0m\u001b[0msrc\u001b[0m\u001b[1;33m,\u001b[0m \u001b[1;33m**\u001b[0m\u001b[0mkwds\u001b[0m\u001b[1;33m)\u001b[0m\u001b[1;33m\u001b[0m\u001b[1;33m\u001b[0m\u001b[0m\n\u001b[0m\u001b[0;32m   1892\u001b[0m         \u001b[0mself\u001b[0m\u001b[1;33m.\u001b[0m\u001b[0munnamed_cols\u001b[0m \u001b[1;33m=\u001b[0m \u001b[0mself\u001b[0m\u001b[1;33m.\u001b[0m\u001b[0m_reader\u001b[0m\u001b[1;33m.\u001b[0m\u001b[0munnamed_cols\u001b[0m\u001b[1;33m\u001b[0m\u001b[1;33m\u001b[0m\u001b[0m\n\u001b[0;32m   1893\u001b[0m \u001b[1;33m\u001b[0m\u001b[0m\n",
      "\u001b[1;32mpandas\\_libs\\parsers.pyx\u001b[0m in \u001b[0;36mpandas._libs.parsers.TextReader.__cinit__\u001b[1;34m()\u001b[0m\n",
      "\u001b[1;32mpandas\\_libs\\parsers.pyx\u001b[0m in \u001b[0;36mpandas._libs.parsers.TextReader._setup_parser_source\u001b[1;34m()\u001b[0m\n",
      "\u001b[1;31mFileNotFoundError\u001b[0m: [Errno 2] File Masterlist of Schools.csv does not exist: 'Masterlist of Schools.csv'"
     ]
    }
   ],
   "source": [
    "df_schools = pd.read_csv(\"Masterlist of Schools.csv\", index_col=\"school.id\")\n",
    "\n",
    "df_location = pd.read_csv(\"Schools Location Data.csv\", \n",
    "                          encoding = \"latin-1\", \n",
    "                          index_col=\"School ID\",\n",
    "                          usecols=[\"School ID\", \"Enrolment\", \"Latitude\", \"Longitude\"])\n",
    "\n",
    "df_rooms = pd.read_csv('Rooms data.csv', index_col=\"School ID\")\n",
    "\n",
    "df_teachers = pd.read_csv(\"Teachers data.csv\", index_col=\"school.id\")\n",
    "\n",
    "df_elementary = pd.read_csv(\"Enrollment Master Data_2015_E.csv\")[:-1].astype(int).set_index(\"School ID\")\n",
    "\n",
    "df_secondary = (pd.read_csv('Enrollment Master Data_2015_S.csv')[:-1]\n",
    "                  .replace(\",\", \"\", regex=True)\n",
    "                  .astype(int)\n",
    "                  .rename(columns = {'SPED NG Male':'SPED NG Male SS', 'SPED NG Female' :'SPED NG Female SS'})\n",
    "                  .set_index(\"School ID\"))\n",
    "\n",
    "df_mooe = (pd.read_csv('MOOE data.csv', index_col=\"school.id\", usecols=[\"school.id\", \" school.mooe \"])\n",
    "             .replace(\",\", \"\", regex=True).astype(float))"
   ]
  },
  {
   "cell_type": "code",
   "execution_count": null,
   "metadata": {},
   "outputs": [],
   "source": [
    "df_all = pd.concat([df_schools, df_location, df_rooms, df_teachers, df_elementary, df_secondary, df_mooe], axis=1)\n",
    "df_all_elementary = pd.concat([df_schools, df_location, df_rooms, df_teachers, df_elementary, df_mooe], axis=1)\n",
    "df_all_secondary = pd.concat([df_schools, df_location, df_rooms, df_teachers, df_secondary, df_mooe], axis=1)\n",
    "\n",
    "df_all"
   ]
  },
  {
   "cell_type": "code",
   "execution_count": null,
   "metadata": {},
   "outputs": [],
   "source": [
    "df_secondary = (pd.read_csv('Enrollment Master Data_2015_S.csv')[:-1]\n",
    "                  .replace(\",\", \"\", regex=True)\n",
    "                  .astype(int)\n",
    "                  .rename(columns = {'SPED NG Male':'SPED NG Male SS', 'SPED NG Female' :'SPED NG Female SS'})\n",
    "                  .set_index(\"School ID\"))\n",
    "\n",
    "df_secondary"
   ]
  },
  {
   "cell_type": "code",
   "execution_count": null,
   "metadata": {},
   "outputs": [],
   "source": [
    "df_all.isna().sum()"
   ]
  },
  {
   "cell_type": "code",
   "execution_count": null,
   "metadata": {},
   "outputs": [],
   "source": [
    "df_all[df_all.index.duplicated(keep=False)]"
   ]
  },
  {
   "cell_type": "code",
   "execution_count": null,
   "metadata": {
    "scrolled": true
   },
   "outputs": [],
   "source": [
    "df_all.columns"
   ]
  },
  {
   "cell_type": "code",
   "execution_count": null,
   "metadata": {},
   "outputs": [],
   "source": [
    "df_all['Total Elementary SPED Students'] = df_all['SPED NG Male'] + df_all['SPED NG Female']\n",
    "df_all['Total Secondary SPED Students'] = df_all['SPED NG Male SS'] + df_all['SPED NG Female SS']\n",
    "df_all['Total Rooms'] = (df_all['rooms.standard.academic'] + \n",
    "                             df_all['rooms.standard.unused'] + \n",
    "                             df_all['rooms.nonstandard.academic'] + \n",
    "                             df_all['rooms.nonstandard.unused'])\n",
    "df_all['Other Teachers'] = (df_all['teachers.instructor'] + \n",
    "                             df_all['teachers.mobile'] + \n",
    "                             df_all['teachers.regular'])\n",
    "                            \n",
    "df_all['SPED Teachers'] = df_all['teachers.sped']"
   ]
  },
  {
   "cell_type": "code",
   "execution_count": null,
   "metadata": {},
   "outputs": [],
   "source": [
    "df_all.isna().sum()"
   ]
  },
  {
   "cell_type": "code",
   "execution_count": null,
   "metadata": {},
   "outputs": [],
   "source": [
    "df_eda = df_all[['school.classification','school.classification2','school.type','school.urban','Total Elementary SPED Students','Total Secondary SPED Students','Total Rooms','Other Teachers','SPED Teachers',' school.mooe ']]"
   ]
  },
  {
   "cell_type": "code",
   "execution_count": null,
   "metadata": {},
   "outputs": [],
   "source": [
    "corrmat_eda = df_eda.corr()\n",
    "f, ax = plt.subplots(figsize = (8,6))\n",
    "sns.heatmap(corrmat_eda, square = True)"
   ]
  },
  {
   "cell_type": "markdown",
   "metadata": {},
   "source": [
    "The plot shows that: \n",
    "<br> 1.) There are more ***SPED Teachers*** in the **Elementary Grade** rather in the **Secondary Grade**.\n",
    "<br> 2.) ***Other Teachers*** (Regular, Mobile, & Instructor) take much more of the room allocation rather than the *SPED Teachers*. This makes sense because the number of total enrolees for regular students is higher than SPED students.\n",
    "<br> 3.) The number of ***total rooms*** is highly correlated with the ***school's budget***. This highly suggests that the higher the budget, the higher number of rooms a school can construct/offer.\n",
    "<br> 4.) Also, a ***school's budget*** has something to do with their capability to hire/have more teachers. Based on the plot, it suggests that the higher the budget of a school, the greater the number of teachers they can deploy."
   ]
  },
  {
   "cell_type": "code",
   "execution_count": null,
   "metadata": {},
   "outputs": [],
   "source": [
    "df_eda_missing = (df_eda.isnull().sum() / len(df_eda))*100\n",
    "df_eda_missing = df_eda_missing.drop(df_eda_missing[df_eda_missing == 0].index).sort_values(ascending = False)\n",
    "missing_data = pd.DataFrame({'Missing Percentage':df_eda_missing})\n",
    "missing_data"
   ]
  },
  {
   "cell_type": "code",
   "execution_count": null,
   "metadata": {},
   "outputs": [],
   "source": [
    "df_eda.isna().sum()"
   ]
  },
  {
   "cell_type": "code",
   "execution_count": null,
   "metadata": {},
   "outputs": [],
   "source": [
    "df_all.shape"
   ]
  },
  {
   "cell_type": "code",
   "execution_count": null,
   "metadata": {},
   "outputs": [],
   "source": [
    "df_eda_copy = df_eda\n",
    "df_eda_copy['Total Elementary SPED Students'] = df_eda_copy['Total Elementary SPED Students'].fillna(0)\n",
    "df_eda_copy['Total Secondary SPED Students'] = df_eda_copy['Total Elementary SPED Students'].fillna(0)\n",
    "df_eda_copy\n"
   ]
  },
  {
   "cell_type": "code",
   "execution_count": null,
   "metadata": {},
   "outputs": [],
   "source": [
    "df_eda_missing = (df_eda_copy.isnull().sum() / len(df_eda_copy))*100\n",
    "df_eda_missing = df_eda_missing.drop(df_eda_missing[df_eda_missing == 0].index).sort_values(ascending = False)\n",
    "missing_data = pd.DataFrame({'Missing Percentage':df_eda_missing})\n",
    "missing_data"
   ]
  },
  {
   "cell_type": "code",
   "execution_count": null,
   "metadata": {},
   "outputs": [],
   "source": [
    "corrmat_eda = df_eda_copy.corr()\n",
    "f, ax = plt.subplots(figsize = (8,6))\n",
    "sns.heatmap(corrmat_eda, square = True)"
   ]
  },
  {
   "cell_type": "markdown",
   "metadata": {},
   "source": [
    "The plot shows that: \n",
    "<br> 1.) There are more ***SPED Teachers*** in the **Elementary Grade** rather in the **Secondary Grade**.\n",
    "<br> 2.) ***Other Teachers*** (Regular, Mobile, & Instructor) take much more of the room allocation rather than the *SPED Teachers*. This makes sense because the number of total enrolees for regular students is higher than SPED students.\n",
    "<br> 3.) The number of ***total rooms*** is highly correlated with the ***school's budget***. This highly suggests that the higher the budget, the higher number of rooms a school can construct/offer.\n",
    "<br> 4.) Also, a ***school's budget*** has something to do with their capability to hire/have more teachers. Based on the plot, it suggests that the higher the budget of a school, the greater the number of teachers they can deploy."
   ]
  },
  {
   "cell_type": "code",
   "execution_count": null,
   "metadata": {},
   "outputs": [],
   "source": [
    "df_eda_clean = df_eda_copy.dropna()\n",
    "df_eda_clean.shape"
   ]
  },
  {
   "cell_type": "code",
   "execution_count": null,
   "metadata": {},
   "outputs": [],
   "source": [
    "df_eda_missing = (df_eda_clean.isnull().sum() / len(df_eda_clean))*100\n",
    "df_eda_missing = df_eda_missing.drop(df_eda_missing[df_eda_missing == 0].index).sort_values(ascending = False)\n",
    "missing_data = pd.DataFrame({'Missing Percentage':df_eda_missing})\n",
    "missing_data"
   ]
  },
  {
   "cell_type": "code",
   "execution_count": null,
   "metadata": {},
   "outputs": [],
   "source": [
    "df_eda_clean.columns"
   ]
  },
  {
   "cell_type": "code",
   "execution_count": null,
   "metadata": {},
   "outputs": [],
   "source": [
    "df_eda_clean['school.urban'].value_counts()"
   ]
  },
  {
   "cell_type": "code",
   "execution_count": null,
   "metadata": {},
   "outputs": [],
   "source": [
    "# Scatterplot all Features\n",
    "cat_col = ['school.classification', 'school.classification2', 'school.type',\n",
    "       'school.urban']\n",
    "for col in cat_col:\n",
    "    sns.set()\n",
    "    cols = ['Total Elementary SPED Students', 'Total Secondary SPED Students', 'Total Rooms', 'Other Teachers',\n",
    "       'SPED Teachers', ' school.mooe ']\n",
    "    plt.figure()\n",
    "    sns.pairplot(df_eda_clean, size = 4.0, hue = ['school.classification'])\n",
    "    plt.show"
   ]
  },
  {
   "cell_type": "code",
   "execution_count": null,
   "metadata": {},
   "outputs": [],
   "source": [
    "sns.pairplot(df_eda_clean, size = 3.0, hue = 'school.classification')"
   ]
  },
  {
   "cell_type": "markdown",
   "metadata": {},
   "source": [
    "# K-Means Clustering"
   ]
  },
  {
   "cell_type": "code",
   "execution_count": null,
   "metadata": {
    "scrolled": true
   },
   "outputs": [],
   "source": [
    "df_all['Total Teachers'] = df_all['Other Teachers'] + df_all['SPED Teachers']\n",
    "\n",
    "df_all['ST Ratio'] = df_all['Enrolment'] / df_all['Total Teachers']\n",
    "\n",
    "df_all.head()"
   ]
  },
  {
   "cell_type": "code",
   "execution_count": null,
   "metadata": {},
   "outputs": [],
   "source": [
    "df_all['school.classification'].unique()"
   ]
  },
  {
   "cell_type": "code",
   "execution_count": null,
   "metadata": {},
   "outputs": [],
   "source": [
    "df_all_elementary['Total Elementary SPED Students'] = df_all_elementary['SPED NG Male'] + df_all_elementary['SPED NG Female']\n",
    "df_all_elementary['Total Rooms'] = (df_all_elementary['rooms.standard.academic'] + \n",
    "                             df_all_elementary['rooms.standard.unused'] + \n",
    "                             df_all_elementary['rooms.nonstandard.academic'] + \n",
    "                             df_all_elementary['rooms.nonstandard.unused'])\n",
    "df_all_elementary['Other Teachers'] = (df_all_elementary['teachers.instructor'] + \n",
    "                             df_all_elementary['teachers.mobile'] + \n",
    "                             df_all_elementary['teachers.regular'])\n",
    "                            \n",
    "df_all_elementary['SPED Teachers'] = df_all_elementary['teachers.sped']\n",
    "\n",
    "df_all_elementary['Total Elementary SPED Students'] = df_all_elementary['Total Elementary SPED Students'].fillna(0)\n",
    "\n",
    "df_all_elementary['Total Teachers'] = df_all_elementary['Other Teachers'] + df_all_elementary['SPED Teachers']\n",
    "\n",
    "df_all_elementary['ST Ratio'] = df_all_elementary['Enrolment'] / df_all_elementary['Total Teachers']\n",
    "\n",
    "df_all_elementary.head()"
   ]
  },
  {
   "cell_type": "code",
   "execution_count": null,
   "metadata": {},
   "outputs": [],
   "source": [
    "df_all.isna().sum()"
   ]
  },
  {
   "cell_type": "code",
   "execution_count": null,
   "metadata": {
    "scrolled": true
   },
   "outputs": [],
   "source": [
    "df_all_secondary['Total Secondary SPED Students'] = df_all_secondary['SPED NG Male SS'] + df_all_secondary['SPED NG Female SS']\n",
    "df_all_secondary['Total Rooms'] = (df_all_secondary['rooms.standard.academic'] + \n",
    "                             df_all_secondary['rooms.standard.unused'] + \n",
    "                             df_all_secondary['rooms.nonstandard.academic'] + \n",
    "                             df_all_secondary['rooms.nonstandard.unused'])\n",
    "df_all_secondary['Other Teachers'] = (df_all_secondary['teachers.instructor'] + \n",
    "                             df_all_secondary['teachers.mobile'] + \n",
    "                             df_all_secondary['teachers.regular'])\n",
    "                            \n",
    "df_all_secondary['SPED Teachers'] = df_all_secondary['teachers.sped']\n",
    "\n",
    "df_all_secondary['Total Secondary SPED Students'] = df_all_secondary['Total Secondary SPED Students'].fillna(0)\n",
    "\n",
    "df_all_secondary['Total Teachers'] = df_all_secondary['Other Teachers'] + df_all_secondary['SPED Teachers']\n",
    "\n",
    "df_all_secondary['ST Ratio'] = df_all_secondary['Enrolment'] / df_all_secondary['Total Teachers']\n",
    "\n",
    "df_all_secondary.head()"
   ]
  },
  {
   "cell_type": "code",
   "execution_count": null,
   "metadata": {},
   "outputs": [],
   "source": [
    "df_all.columns"
   ]
  },
  {
   "cell_type": "code",
   "execution_count": null,
   "metadata": {},
   "outputs": [],
   "source": [
    "df_all_elementary.columns"
   ]
  },
  {
   "cell_type": "code",
   "execution_count": null,
   "metadata": {
    "scrolled": true
   },
   "outputs": [],
   "source": [
    "df_all_secondary.columns"
   ]
  },
  {
   "cell_type": "code",
   "execution_count": null,
   "metadata": {},
   "outputs": [],
   "source": [
    "df_all_kmeans = df_all[['ST Ratio',' school.mooe ','Total Rooms']]\n",
    "df_all_elementary_kmeans = df_all_elementary[['ST Ratio',' school.mooe ','Total Rooms']]\n",
    "df_all_secondary_kmeans = df_all_secondary[['ST Ratio',' school.mooe ','Total Rooms']]\n",
    "\n",
    "df_all_kmeans.replace([np.inf, -np.inf], np.nan, inplace=True)\n",
    "df_all_elementary_kmeans.replace([np.inf, -np.inf], np.nan, inplace=True)\n",
    "df_all_secondary_kmeans.replace([np.inf, -np.inf], np.nan, inplace=True)"
   ]
  },
  {
   "cell_type": "code",
   "execution_count": null,
   "metadata": {},
   "outputs": [],
   "source": [
    "df_all_kmeans_clean = df_all_kmeans.dropna()\n",
    "df_all_elementary_kmeans_clean = df_all_elementary_kmeans.dropna()\n",
    "df_all_secondary_kmeans_clean = df_all_secondary_kmeans.dropna()"
   ]
  },
  {
   "cell_type": "markdown",
   "metadata": {},
   "source": [
    "# Elementary"
   ]
  },
  {
   "cell_type": "code",
   "execution_count": null,
   "metadata": {
    "scrolled": true
   },
   "outputs": [],
   "source": [
    "from mpl_toolkits.mplot3d import Axes3D\n",
    "\n",
    "fig = plt.figure(figsize=(15, 10))\n",
    "ax = fig.add_subplot(111, projection='3d')\n",
    "\n",
    "ST_Ratio = df_all_elementary_kmeans_clean['ST Ratio']\n",
    "Rooms = df_all_elementary_kmeans_clean['Total Rooms']\n",
    "Budget = df_all_elementary_kmeans_clean[' school.mooe ']\n",
    "ax.scatter(ST_Ratio, Rooms, Budget, s=5)\n",
    "\n",
    "ax.set_xlabel('ST Ratio')\n",
    "ax.set_ylabel('Rooms')\n",
    "ax.set_zlabel('Budget')\n",
    "\n",
    "plt.show()"
   ]
  },
  {
   "cell_type": "code",
   "execution_count": null,
   "metadata": {},
   "outputs": [],
   "source": [
    "fig = plt.figure(figsize=(15, 10))\n",
    "ax = fig.add_subplot(111, projection='3d')\n",
    "\n",
    "ST_Ratio = df_all_secondary_kmeans_clean['ST Ratio']\n",
    "Rooms = df_all_secondary_kmeans_clean['Total Rooms']\n",
    "Budget = df_all_secondary_kmeans_clean[' school.mooe ']\n",
    "ax.scatter(ST_Ratio, Rooms, Budget, s=5)\n",
    "\n",
    "ax.set_xlabel('ST Ratio')\n",
    "ax.set_ylabel('Rooms')\n",
    "ax.set_zlabel('Budget')\n",
    "\n",
    "plt.show()"
   ]
  },
  {
   "cell_type": "code",
   "execution_count": null,
   "metadata": {},
   "outputs": [],
   "source": [
    "from sklearn.preprocessing import StandardScaler\n",
    "\n",
    "scaler = StandardScaler()\n",
    "df_scaled_ss = scaler.fit_transform(df_ratio_ss)"
   ]
  }
 ],
 "metadata": {
  "kernelspec": {
   "display_name": "Python 3",
   "language": "python",
   "name": "python3"
  },
  "language_info": {
   "codemirror_mode": {
    "name": "ipython",
    "version": 3
   },
   "file_extension": ".py",
   "mimetype": "text/x-python",
   "name": "python",
   "nbconvert_exporter": "python",
   "pygments_lexer": "ipython3",
   "version": "3.8.3"
  }
 },
 "nbformat": 4,
 "nbformat_minor": 5
}
